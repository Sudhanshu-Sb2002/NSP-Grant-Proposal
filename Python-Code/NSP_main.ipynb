{
 "cells": [
  {
   "cell_type": "code",
   "execution_count": 106,
   "outputs": [
    {
     "name": "stdout",
     "output_type": "stream",
     "text": [
      "Net(\n",
      "  (fc1): Linear(in_features=11, out_features=5, bias=True)\n",
      "  (fc2): Linear(in_features=5, out_features=1, bias=False)\n",
      ")\n",
      "<class 'numpy.float64'>\n"
     ]
    },
    {
     "ename": "RuntimeError",
     "evalue": "Found dtype Double but expected Float",
     "output_type": "error",
     "traceback": [
      "\u001B[1;31m---------------------------------------------------------------------------\u001B[0m",
      "\u001B[1;31mRuntimeError\u001B[0m                              Traceback (most recent call last)",
      "Input \u001B[1;32mIn [106]\u001B[0m, in \u001B[0;36m<cell line: 86>\u001B[1;34m()\u001B[0m\n\u001B[0;32m     97\u001B[0m L1_regularisation1 \u001B[38;5;241m=\u001B[39m lambda2 \u001B[38;5;241m*\u001B[39m t\u001B[38;5;241m.\u001B[39mnorm(lin_params, \u001B[38;5;241m2\u001B[39m)\n\u001B[0;32m     98\u001B[0m loss \u001B[38;5;241m=\u001B[39m criterion(output, target) \u001B[38;5;241m+\u001B[39m L1_regularisation \u001B[38;5;241m+\u001B[39m L1_regularisation1\n\u001B[1;32m--> 100\u001B[0m \u001B[43mloss\u001B[49m\u001B[38;5;241;43m.\u001B[39;49m\u001B[43mbackward\u001B[49m\u001B[43m(\u001B[49m\u001B[43m)\u001B[49m\n\u001B[0;32m    101\u001B[0m optimizer\u001B[38;5;241m.\u001B[39mstep()\n\u001B[0;32m    102\u001B[0m \u001B[38;5;28;01mif\u001B[39;00m (i \u001B[38;5;241m%\u001B[39m \u001B[38;5;241m500\u001B[39m \u001B[38;5;241m==\u001B[39m \u001B[38;5;241m0\u001B[39m):\n",
      "File \u001B[1;32mC:\\ProgramData\\Anaconda3\\envs\\NSP-code\\lib\\site-packages\\torch\\_tensor.py:363\u001B[0m, in \u001B[0;36mTensor.backward\u001B[1;34m(self, gradient, retain_graph, create_graph, inputs)\u001B[0m\n\u001B[0;32m    354\u001B[0m \u001B[38;5;28;01mif\u001B[39;00m has_torch_function_unary(\u001B[38;5;28mself\u001B[39m):\n\u001B[0;32m    355\u001B[0m     \u001B[38;5;28;01mreturn\u001B[39;00m handle_torch_function(\n\u001B[0;32m    356\u001B[0m         Tensor\u001B[38;5;241m.\u001B[39mbackward,\n\u001B[0;32m    357\u001B[0m         (\u001B[38;5;28mself\u001B[39m,),\n\u001B[1;32m   (...)\u001B[0m\n\u001B[0;32m    361\u001B[0m         create_graph\u001B[38;5;241m=\u001B[39mcreate_graph,\n\u001B[0;32m    362\u001B[0m         inputs\u001B[38;5;241m=\u001B[39minputs)\n\u001B[1;32m--> 363\u001B[0m \u001B[43mtorch\u001B[49m\u001B[38;5;241;43m.\u001B[39;49m\u001B[43mautograd\u001B[49m\u001B[38;5;241;43m.\u001B[39;49m\u001B[43mbackward\u001B[49m\u001B[43m(\u001B[49m\u001B[38;5;28;43mself\u001B[39;49m\u001B[43m,\u001B[49m\u001B[43m \u001B[49m\u001B[43mgradient\u001B[49m\u001B[43m,\u001B[49m\u001B[43m \u001B[49m\u001B[43mretain_graph\u001B[49m\u001B[43m,\u001B[49m\u001B[43m \u001B[49m\u001B[43mcreate_graph\u001B[49m\u001B[43m,\u001B[49m\u001B[43m \u001B[49m\u001B[43minputs\u001B[49m\u001B[38;5;241;43m=\u001B[39;49m\u001B[43minputs\u001B[49m\u001B[43m)\u001B[49m\n",
      "File \u001B[1;32mC:\\ProgramData\\Anaconda3\\envs\\NSP-code\\lib\\site-packages\\torch\\autograd\\__init__.py:173\u001B[0m, in \u001B[0;36mbackward\u001B[1;34m(tensors, grad_tensors, retain_graph, create_graph, grad_variables, inputs)\u001B[0m\n\u001B[0;32m    168\u001B[0m     retain_graph \u001B[38;5;241m=\u001B[39m create_graph\n\u001B[0;32m    170\u001B[0m \u001B[38;5;66;03m# The reason we repeat same the comment below is that\u001B[39;00m\n\u001B[0;32m    171\u001B[0m \u001B[38;5;66;03m# some Python versions print out the first line of a multi-line function\u001B[39;00m\n\u001B[0;32m    172\u001B[0m \u001B[38;5;66;03m# calls in the traceback and some print out the last line\u001B[39;00m\n\u001B[1;32m--> 173\u001B[0m \u001B[43mVariable\u001B[49m\u001B[38;5;241;43m.\u001B[39;49m\u001B[43m_execution_engine\u001B[49m\u001B[38;5;241;43m.\u001B[39;49m\u001B[43mrun_backward\u001B[49m\u001B[43m(\u001B[49m\u001B[43m  \u001B[49m\u001B[38;5;66;43;03m# Calls into the C++ engine to run the backward pass\u001B[39;49;00m\n\u001B[0;32m    174\u001B[0m \u001B[43m    \u001B[49m\u001B[43mtensors\u001B[49m\u001B[43m,\u001B[49m\u001B[43m \u001B[49m\u001B[43mgrad_tensors_\u001B[49m\u001B[43m,\u001B[49m\u001B[43m \u001B[49m\u001B[43mretain_graph\u001B[49m\u001B[43m,\u001B[49m\u001B[43m \u001B[49m\u001B[43mcreate_graph\u001B[49m\u001B[43m,\u001B[49m\u001B[43m \u001B[49m\u001B[43minputs\u001B[49m\u001B[43m,\u001B[49m\n\u001B[0;32m    175\u001B[0m \u001B[43m    \u001B[49m\u001B[43mallow_unreachable\u001B[49m\u001B[38;5;241;43m=\u001B[39;49m\u001B[38;5;28;43;01mTrue\u001B[39;49;00m\u001B[43m,\u001B[49m\u001B[43m \u001B[49m\u001B[43maccumulate_grad\u001B[49m\u001B[38;5;241;43m=\u001B[39;49m\u001B[38;5;28;43;01mTrue\u001B[39;49;00m\u001B[43m)\u001B[49m\n",
      "\u001B[1;31mRuntimeError\u001B[0m: Found dtype Double but expected Float"
     ]
    }
   ],
   "source": [
    "from Input_function import import_data1\n",
    "import numpy as np\n",
    "import matplotlib.pyplot as plt\n",
    "import torch as t\n",
    "import torch.nn as nn\n",
    "import torch.nn.functional as F\n",
    "import torch.optim as optim\n",
    "from scipy.stats import pearsonr"
   ],
   "metadata": {
    "collapsed": false,
    "pycharm": {
     "name": "#%%\n"
    }
   }
  },
  {
   "cell_type": "code",
   "execution_count": null,
   "outputs": [],
   "source": [
    "\n",
    "#from NeuralNetNSP import Net\n",
    "path = \"D:\\\\OneDrive - Indian Institute of Science\\\\4th Sem\\\\NSP\\\\NSP-Grant-Proposal\\\\MATLAB-COde\\\\forPython.mat\"\n",
    "[train_attributes, train_labels, test_attributes, test_labels] = import_data1(path)\n",
    "#jupyter nbextension enable varInspector/main\n",
    "\n",
    "\n",
    "\n",
    "class Net(nn.Module):\n",
    "\n",
    "    def __init__(self):\n",
    "        '''\n",
    "        n0 = 11\n",
    "        n1 = 7\n",
    "        n2 = 4\n",
    "        super(Net, self).__init__()  # calling base class\n",
    "        self.fc1 = nn.Linear(n0, n1)  # input is 11x1\n",
    "        # self.init_weights(self.fc1)\n",
    "        nn.init.xavier_uniform_(self.fc1.weight)\n",
    "        # print(self.fc1.weight)\n",
    "        self.fc2 = nn.Linear(n1, n2)\n",
    "        # self.init_weights(self.fc2)\n",
    "        nn.init.xavier_uniform_(self.fc1.weight)\n",
    "        # print(self.fc2.weight)\n",
    "        self.fc3 = nn.Linear(n2, 1)\n",
    "        # self.init_weights(self.fc3)\n",
    "        nn.init.xavier_uniform_(self.fc1.weight)\n",
    "        # print(self.fc3.weight) '''\n",
    "        n0 = 11\n",
    "        n1 = 5\n",
    "        n2 = 1\n",
    "        super(Net, self).__init__()  # calling base class\n",
    "        self.fc1 = nn.Linear(n0, n1, bias=True)  # input is 11x1\n",
    "        # self.init_weights(self.fc1)\n",
    "        nn.init.xavier_uniform_(self.fc1.weight)\n",
    "        # print(self.fc1.weight)\n",
    "        self.fc2 = nn.Linear(n1, n2, bias=False)\n",
    "        # self.init_weights(self.fc2)\n",
    "        nn.init.xavier_uniform_(self.fc1.weight)\n",
    "        # print(self.fc2.weight)\n",
    "\n",
    "        # print(self.fc3.weight)\n",
    "\n",
    "    '''def init_weights(self,m):\n",
    "        if isinstance(m):\n",
    "            nn.init.xavier_uniform(m.weight)\n",
    "\n",
    "    '''\n",
    "\n",
    "    def forward(self, x):\n",
    "        '''x = F.relu(self.fc1(x))\n",
    "        # print(x)\n",
    "        # assert x.size == n1\n",
    "        x = F.relu(self.fc2(x))\n",
    "        # print(x)\n",
    "        x = t.sigmoid(self.fc3(x))  # change t to f if it doesn't work\n",
    "        # print(x)'''\n",
    "        x = F.relu(self.fc1(x))\n",
    "        # print(x)\n",
    "        # assert x.size == n1 )\n",
    "        x = t.sigmoid(self.fc2(x))  # change t to f if it doesn't work\n",
    "        # print(x)\n",
    "        return x\n"
   ],
   "metadata": {
    "collapsed": false,
    "pycharm": {
     "name": "#%%\n"
    }
   }
  },
  {
   "cell_type": "code",
   "execution_count": null,
   "outputs": [],
   "source": [
    "\n",
    "net = Net()\n",
    "print(net)\n",
    "params = list(net.parameters())\n",
    "optimizer = optim.SGD(net.parameters(), lr=0.005)\n",
    "num_epochs = 30000\n",
    "lambda1 = 0.005\n",
    "lambda3 = 0\n",
    "lambda2 = 0\n",
    "\n",
    "for i in range(num_epochs):\n",
    "    optimizer.zero_grad()\n",
    "    inp = t.tensor(train_attributes).float()\n",
    "    output = net(inp)\n",
    "    target = t.tensor(train_labels)\n",
    "    criterion = nn.MSELoss()\n",
    "\n",
    "    lin_params = t.cat([x.view(-1) for x in net.fc1.parameters()])\n",
    "    L1_regularisation = lambda1 * t.norm(lin_params, 1) + lambda3 * t.norm(lin_params, 2)\n",
    "\n",
    "    lin_params2 = t.cat([x.view(-1) for x in net.fc2.parameters()])\n",
    "    L1_regularisation1 = lambda2 * t.norm(lin_params, 2)\n",
    "    loss = criterion(output, target) + L1_regularisation + L1_regularisation1\n",
    "\n",
    "    loss.backward()\n",
    "    optimizer.step()\n",
    "    if (i % 500 == 0):\n",
    "        print(loss.data)"
   ],
   "metadata": {
    "collapsed": false,
    "pycharm": {
     "name": "#%%\n"
    }
   }
  },
  {
   "cell_type": "code",
   "execution_count": null,
   "outputs": [],
   "source": [
    "inp = t.tensor(test_attributes).float()\n",
    "output = net(inp)\n",
    "target = t.tensor(test_labels)\n",
    "criterion = nn.MSELoss()\n",
    "loss = criterion(output, target)\n",
    "print(loss.data)\n",
    "y = np.array(target.data).flatten()\n",
    "x = np.array(output.data).flatten()\n",
    "print(\"correlation \", pearsonr(x, y))\n",
    "plt.subplot(2, 1, 1)\n",
    "plt.plot(x)\n",
    "plt.plot(y)\n",
    "plt.subplot(2, 1, 2)\n",
    "plt.scatter(x, y, marker='.', s=0.5)\n",
    "plt.show()\n",
    "\n",
    "inp = t.tensor(train_attributes).float()\n",
    "output = net(inp)\n",
    "target = t.tensor(train_labels)\n",
    "criterion = nn.MSELoss()\n",
    "loss = criterion(output, target)\n",
    "print(loss.data)\n",
    "y = np.array(target.data).flatten()\n",
    "x = np.array(output.data).flatten()\n",
    "print(\"correlation \", pearsonr(x, y))\n",
    "plt.subplot(2, 1, 1)\n",
    "plt.plot(x)\n",
    "plt.plot(y)\n",
    "plt.subplot(2, 1, 2)\n",
    "plt.scatter(x, y, marker='.', s=0.5)\n",
    "plt.show()"
   ],
   "metadata": {
    "collapsed": false,
    "pycharm": {
     "name": "#%%\n"
    }
   }
  },
  {
   "cell_type": "code",
   "execution_count": null,
   "outputs": [],
   "source": [
    "lin_params = t.cat([x.view(-1) for x in net.fc1.parameters()])"
   ],
   "metadata": {
    "collapsed": false,
    "pycharm": {
     "name": "#%%\n"
    }
   }
  }
 ],
 "metadata": {
  "kernelspec": {
   "display_name": "Python 3 (ipykernel)",
   "language": "python",
   "name": "python3"
  },
  "language_info": {
   "codemirror_mode": {
    "name": "ipython",
    "version": 3
   },
   "file_extension": ".py",
   "mimetype": "text/x-python",
   "name": "python",
   "nbconvert_exporter": "python",
   "pygments_lexer": "ipython3",
   "version": "3.9.12"
  }
 },
 "nbformat": 4,
 "nbformat_minor": 4
}